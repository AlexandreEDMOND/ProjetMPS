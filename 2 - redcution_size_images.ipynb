{
 "cells": [
  {
   "cell_type": "markdown",
   "metadata": {},
   "source": [
    "# Import"
   ]
  },
  {
   "cell_type": "code",
   "execution_count": 11,
   "metadata": {},
   "outputs": [],
   "source": [
    "import os\n",
    "import cv2\n",
    "from tqdm import tqdm"
   ]
  },
  {
   "cell_type": "markdown",
   "metadata": {},
   "source": [
    "# Constantes"
   ]
  },
  {
   "cell_type": "code",
   "execution_count": 12,
   "metadata": {},
   "outputs": [],
   "source": [
    "PATH_RAW_FOLDER = \"data/raw\"\n",
    "PATH_REDUCED_FOLDER = \"data/reduced\"\n",
    "\n",
    "MAX_WIDTH = 800\n",
    "MAX_HEIGHT = 600"
   ]
  },
  {
   "cell_type": "markdown",
   "metadata": {},
   "source": [
    "# Création Dossier Output"
   ]
  },
  {
   "cell_type": "code",
   "execution_count": 13,
   "metadata": {},
   "outputs": [],
   "source": [
    "if not os.path.exists(PATH_REDUCED_FOLDER):\n",
    "    os.makedirs(PATH_REDUCED_FOLDER)"
   ]
  },
  {
   "cell_type": "markdown",
   "metadata": {},
   "source": [
    "# Réduction taille image"
   ]
  },
  {
   "cell_type": "code",
   "execution_count": 14,
   "metadata": {},
   "outputs": [
    {
     "name": "stderr",
     "output_type": "stream",
     "text": [
      "Réduction de 24_10_09 Soirée oeno: 100%|██████████| 76/76 [00:11<00:00,  6.48it/s]\n",
      "Réduction de data_reduit_10: 100%|██████████| 13/13 [00:01<00:00,  6.87it/s]\n"
     ]
    }
   ],
   "source": [
    "for folder_name in os.listdir(PATH_RAW_FOLDER):\n",
    "    input_folder = os.path.join(PATH_RAW_FOLDER, folder_name)\n",
    "    output_folder = os.path.join(PATH_REDUCED_FOLDER, folder_name)\n",
    "    \n",
    "    if os.path.isdir(input_folder):\n",
    "        if not os.path.exists(output_folder):\n",
    "            os.makedirs(output_folder)\n",
    "    \n",
    "        # Récupère tous les noms de fichiers\n",
    "        images = [f for f in os.listdir(input_folder) \n",
    "                    if f.lower().endswith(('.jpg', '.jpeg', '.png'))]\n",
    "\n",
    "        for img_name in tqdm(images, desc=f\"Réduction de {folder_name}\"):\n",
    "            img_path = os.path.join(input_folder, img_name)\n",
    "            img = cv2.imread(img_path)\n",
    "\n",
    "            if img is None:\n",
    "                # Si cv2 ne parvient pas à lire l'image, on skip\n",
    "                print(f\"Impossible de lire {img_path}, on saute ce fichier.\")\n",
    "                continue\n",
    "\n",
    "            h, w = img.shape[:2]\n",
    "            \n",
    "            # Calcul du ratio de redimensionnement pour garder les proportions\n",
    "            scale_w = MAX_WIDTH / w\n",
    "            scale_h = MAX_HEIGHT / h\n",
    "            scale = min(scale_w, scale_h, 1.0)  # éviter d'agrandir si plus petit que max\n",
    "            \n",
    "            new_w = int(w * scale)\n",
    "            new_h = int(h * scale)\n",
    "\n",
    "            # Redimensionnement\n",
    "            resized_img = cv2.resize(img, (new_w, new_h), interpolation=cv2.INTER_AREA)\n",
    "            \n",
    "            # Sauvegarde\n",
    "            out_path = os.path.join(output_folder, img_name)\n",
    "            cv2.imwrite(out_path, resized_img)\n",
    "\n",
    "            # Debug\n",
    "            # print(f\"[OK] {img_name} redimensionnée et sauvegardée -> {out_path}\")"
   ]
  }
 ],
 "metadata": {
  "kernelspec": {
   "display_name": "venv_mps_3_11",
   "language": "python",
   "name": "python3"
  },
  "language_info": {
   "codemirror_mode": {
    "name": "ipython",
    "version": 3
   },
   "file_extension": ".py",
   "mimetype": "text/x-python",
   "name": "python",
   "nbconvert_exporter": "python",
   "pygments_lexer": "ipython3",
   "version": "3.11.11"
  }
 },
 "nbformat": 4,
 "nbformat_minor": 2
}
