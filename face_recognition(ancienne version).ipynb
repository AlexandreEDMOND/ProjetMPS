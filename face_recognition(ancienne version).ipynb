{
 "cells": [
  {
   "cell_type": "markdown",
   "metadata": {},
   "source": [
    "# Import"
   ]
  },
  {
   "cell_type": "code",
   "execution_count": null,
   "metadata": {},
   "outputs": [],
   "source": [
    "import face_recognition\n",
    "import numpy as np\n",
    "import os\n",
    "from tqdm import tqdm\n",
    "\n",
    "from collections import defaultdict\n",
    "from sklearn.cluster import DBSCAN"
   ]
  },
  {
   "cell_type": "markdown",
   "metadata": {},
   "source": [
    "# Constantes"
   ]
  },
  {
   "cell_type": "code",
   "execution_count": 26,
   "metadata": {},
   "outputs": [],
   "source": [
    "# Dossiers source et destination\n",
    "PATH_DIR_PHOTO = \"data/data_reduit_10/\""
   ]
  },
  {
   "cell_type": "markdown",
   "metadata": {},
   "source": [
    "# Liste Photos"
   ]
  },
  {
   "cell_type": "code",
   "execution_count": 27,
   "metadata": {},
   "outputs": [],
   "source": [
    "photos = [f for f in os.listdir(PATH_DIR_PHOTO) if f.lower().endswith(('jpg','jpeg','png'))]"
   ]
  },
  {
   "cell_type": "code",
   "execution_count": 28,
   "metadata": {},
   "outputs": [
    {
     "data": {
      "text/plain": [
       "13"
      ]
     },
     "execution_count": 28,
     "metadata": {},
     "output_type": "execute_result"
    }
   ],
   "source": [
    "len(photos)"
   ]
  },
  {
   "cell_type": "markdown",
   "metadata": {},
   "source": [
    "# Détecter et extraction d'empreinte de chaque image"
   ]
  },
  {
   "cell_type": "code",
   "execution_count": 29,
   "metadata": {},
   "outputs": [
    {
     "name": "stderr",
     "output_type": "stream",
     "text": [
      "100%|██████████| 13/13 [02:29<00:00, 11.53s/it]\n"
     ]
    }
   ],
   "source": [
    "all_face_embeddings = []  # va contenir (photo_id, embedding, location)\n",
    "photo_id = 0\n",
    "\n",
    "for photo_name in tqdm(photos):\n",
    "    photo_path = os.path.join(PATH_DIR_PHOTO, photo_name)\n",
    "    image = face_recognition.load_image_file(photo_path)\n",
    "\n",
    "    # 1. Détecter toutes les localisations de visages\n",
    "    face_locations = face_recognition.face_locations(image)\n",
    "\n",
    "    # 2. Extraire l'empreinte de chaque visage détecté\n",
    "    face_encodings = face_recognition.face_encodings(image, face_locations)\n",
    "\n",
    "    # On stocke tout ça pour plus tard\n",
    "    for loc, enc in zip(face_locations, face_encodings):\n",
    "        all_face_embeddings.append({\n",
    "            'photo_id': photo_id,\n",
    "            'photo_name': photo_name,\n",
    "            'location': loc,\n",
    "            'embedding': enc\n",
    "        })\n",
    "\n",
    "    photo_id += 1"
   ]
  },
  {
   "cell_type": "markdown",
   "metadata": {},
   "source": [
    "# Clustering"
   ]
  },
  {
   "cell_type": "code",
   "execution_count": 43,
   "metadata": {},
   "outputs": [],
   "source": [
    "# Extraire uniquement les embeddings dans un array Numpy\n",
    "embeddings = np.array([face[\"embedding\"] for face in all_face_embeddings])\n",
    "\n",
    "# Appliquer DBSCAN\n",
    "dbscan = DBSCAN(metric='euclidean', eps=0.5, min_samples=2)  # Ajuste eps et min_samples selon tes tests\n",
    "dbscan.fit(embeddings)\n",
    "\n",
    "# dbscan.labels_ contient un numéro de cluster pour chaque embedding\n",
    "# -1 correspond aux \"outliers\" qui n'appartiennent à aucun cluster\n",
    "labels = dbscan.labels_\n",
    "\n",
    "# Associer chaque visage à son cluster\n",
    "for idx, face in enumerate(all_face_embeddings):\n",
    "    face['cluster_id'] = labels[idx]\n"
   ]
  },
  {
   "cell_type": "code",
   "execution_count": 44,
   "metadata": {},
   "outputs": [],
   "source": [
    "clusters = defaultdict(list)\n",
    "for face in all_face_embeddings:\n",
    "    cluster_id = face['cluster_id']\n",
    "    clusters[cluster_id].append(face['photo_name'])\n"
   ]
  },
  {
   "cell_type": "markdown",
   "metadata": {},
   "source": [
    "# Visualisation"
   ]
  },
  {
   "cell_type": "code",
   "execution_count": 45,
   "metadata": {},
   "outputs": [
    {
     "name": "stdout",
     "output_type": "stream",
     "text": [
      "Nombre de visages distincts : 3\n",
      "\n",
      "Cluster 0 :\n",
      "  - IMG_2735.JPG\n",
      "  - IMG_2732.JPG\n",
      "\n",
      "Cluster 1 :\n",
      "  - IMG_2737.JPG\n",
      "  - IMG_2879.JPG\n",
      "\n",
      "Cluster 2 :\n",
      "  - IMG_2735.JPG\n",
      "  - IMG_2859.JPG\n"
     ]
    }
   ],
   "source": [
    "unique_cluster_ids = set(labels) - {-1}\n",
    "print(f\"Nombre de visages distincts : {len(unique_cluster_ids)}\")\n",
    "\n",
    "for c_id in unique_cluster_ids:\n",
    "    print(f\"\\nCluster {c_id} :\")\n",
    "    photos_in_cluster = set(clusters[c_id])  # pour enlever les doublons\n",
    "    for p in photos_in_cluster:\n",
    "        print(f\"  - {p}\")\n"
   ]
  }
 ],
 "metadata": {
  "kernelspec": {
   "display_name": "venv_mps_3_11",
   "language": "python",
   "name": "python3"
  },
  "language_info": {
   "codemirror_mode": {
    "name": "ipython",
    "version": 3
   },
   "file_extension": ".py",
   "mimetype": "text/x-python",
   "name": "python",
   "nbconvert_exporter": "python",
   "pygments_lexer": "ipython3",
   "version": "3.11.11"
  }
 },
 "nbformat": 4,
 "nbformat_minor": 2
}
